{
 "cells": [
  {
   "cell_type": "code",
   "id": "initial_id",
   "metadata": {
    "collapsed": true,
    "ExecuteTime": {
     "end_time": "2025-02-02T23:54:24.961268Z",
     "start_time": "2025-02-02T23:54:24.956260Z"
    }
   },
   "source": [
    "import pandas as pd\n",
    "\n",
    "model_csv = 'C:/Users/usuario/Desktop/Photo_Categorization/photoCategorization/data/results3/blip2_t5_pretrain_flant5xl_3187.csv'\n",
    "df = pd.read_csv(model_csv)"
   ],
   "outputs": [],
   "execution_count": 108
  },
  {
   "metadata": {
    "ExecuteTime": {
     "end_time": "2025-02-02T23:54:24.992308Z",
     "start_time": "2025-02-02T23:54:24.988579Z"
    }
   },
   "cell_type": "code",
   "source": [
    "conteo_paises = df['Country'].value_counts()\n",
    "num_paises_unicos = conteo_paises.nunique()"
   ],
   "id": "adc5b16fee7e6955",
   "outputs": [],
   "execution_count": 109
  },
  {
   "metadata": {
    "ExecuteTime": {
     "end_time": "2025-02-02T23:54:25.011935Z",
     "start_time": "2025-02-02T23:54:25.008249Z"
    }
   },
   "cell_type": "code",
   "source": [
    "print(f\"Total de países distintos: {num_paises_unicos}\")\n",
    "print(conteo_paises)"
   ],
   "id": "f4bba22dc3c0c82",
   "outputs": [
    {
     "name": "stdout",
     "output_type": "stream",
     "text": [
      "Total de países distintos: 5\n",
      "Country\n",
      "ESPAÑA     61\n",
      "TURQUÍA    10\n",
      "EGIPTO      9\n",
      "CHIPRE      7\n",
      "TURQUIA     7\n",
      "MALTA       2\n",
      "Name: count, dtype: int64\n"
     ]
    }
   ],
   "execution_count": 110
  },
  {
   "metadata": {
    "ExecuteTime": {
     "end_time": "2025-02-02T23:54:25.030184Z",
     "start_time": "2025-02-02T23:54:25.027543Z"
    }
   },
   "cell_type": "code",
   "source": [
    "conteo_paises = df['Region'].value_counts()\n",
    "num_paises_unicos = conteo_paises.nunique()"
   ],
   "id": "2e594ee73ce86ce8",
   "outputs": [],
   "execution_count": 111
  },
  {
   "metadata": {
    "ExecuteTime": {
     "end_time": "2025-02-02T23:54:25.049844Z",
     "start_time": "2025-02-02T23:54:25.047166Z"
    }
   },
   "cell_type": "code",
   "source": [
    "print(f\"Total de países distintos: {num_paises_unicos}\")\n",
    "print(conteo_paises)"
   ],
   "id": "4053adbad3d1e77d",
   "outputs": [
    {
     "name": "stdout",
     "output_type": "stream",
     "text": [
      "Total de países distintos: 9\n",
      "Region\n",
      "TÜRKISCHERIVIERA    15\n",
      "GRANCANARIA         13\n",
      "MALLORCA            13\n",
      "LANZAROTE           12\n",
      "TENERIFE            11\n",
      "FUERTEVENTURA       10\n",
      "EGIPTO               9\n",
      "OTROS                8\n",
      "TÜRKISCHEÄGÄIS       2\n",
      "FUERTEVETURA         2\n",
      "WESTKÜSTE            1\n",
      "Name: count, dtype: int64\n"
     ]
    }
   ],
   "execution_count": 112
  },
  {
   "metadata": {},
   "cell_type": "markdown",
   "source": "### Prueba de clasificación de eventuales",
   "id": "4056959542b4646c"
  },
  {
   "metadata": {
    "ExecuteTime": {
     "end_time": "2025-02-02T23:54:25.068160Z",
     "start_time": "2025-02-02T23:54:25.065588Z"
    }
   },
   "cell_type": "code",
   "source": "df_yes = df[df['People'].str.contains('yes', case=False, na=False)]",
   "id": "dd4cc108ece28b68",
   "outputs": [],
   "execution_count": 113
  },
  {
   "metadata": {
    "ExecuteTime": {
     "end_time": "2025-02-02T23:54:25.087470Z",
     "start_time": "2025-02-02T23:54:25.083141Z"
    }
   },
   "cell_type": "code",
   "source": [
    "porcentajes = df_yes.groupby('Country').size() / df.groupby('Country').size() * 100\n",
    "porcentajes = porcentajes.fillna(0)\n",
    "print(porcentajes)\n",
    "valor_min = porcentajes.min()\n",
    "valor_max = porcentajes.max()"
   ],
   "id": "bf4930b882a3d86d",
   "outputs": [
    {
     "name": "stdout",
     "output_type": "stream",
     "text": [
      "Country\n",
      "CHIPRE     14.285714\n",
      "EGIPTO     33.333333\n",
      "ESPAÑA     26.229508\n",
      "MALTA       0.000000\n",
      "TURQUIA    28.571429\n",
      "TURQUÍA    10.000000\n",
      "dtype: float64\n"
     ]
    }
   ],
   "execution_count": 114
  },
  {
   "metadata": {
    "ExecuteTime": {
     "end_time": "2025-02-02T23:54:25.104566Z",
     "start_time": "2025-02-02T23:54:25.101314Z"
    }
   },
   "cell_type": "code",
   "source": [
    "valores_normalizados = (porcentajes - valor_min) / (valor_max - valor_min)\n",
    "print(valores_normalizados)"
   ],
   "id": "fbfd6bda5ddffa15",
   "outputs": [
    {
     "name": "stdout",
     "output_type": "stream",
     "text": [
      "Country\n",
      "CHIPRE     0.428571\n",
      "EGIPTO     1.000000\n",
      "ESPAÑA     0.786885\n",
      "MALTA      0.000000\n",
      "TURQUIA    0.857143\n",
      "TURQUÍA    0.300000\n",
      "dtype: float64\n"
     ]
    }
   ],
   "execution_count": 115
  },
  {
   "metadata": {
    "ExecuteTime": {
     "end_time": "2025-02-02T23:54:25.124743Z",
     "start_time": "2025-02-02T23:54:25.120663Z"
    }
   },
   "cell_type": "code",
   "source": [
    "porcentajes = df_yes.groupby('Region').size() / df.groupby('Region').size() * 100\n",
    "porcentajes = porcentajes.fillna(0)\n",
    "print(porcentajes)\n",
    "valor_min = porcentajes.min()\n",
    "valor_max = porcentajes.max()"
   ],
   "id": "f41b76063b9a3cc1",
   "outputs": [
    {
     "name": "stdout",
     "output_type": "stream",
     "text": [
      "Region\n",
      "EGIPTO              33.333333\n",
      "FUERTEVENTURA       40.000000\n",
      "FUERTEVETURA         0.000000\n",
      "GRANCANARIA         23.076923\n",
      "LANZAROTE            8.333333\n",
      "MALLORCA            53.846154\n",
      "OTROS               12.500000\n",
      "TENERIFE             9.090909\n",
      "TÜRKISCHERIVIERA    20.000000\n",
      "TÜRKISCHEÄGÄIS       0.000000\n",
      "WESTKÜSTE            0.000000\n",
      "dtype: float64\n"
     ]
    }
   ],
   "execution_count": 116
  },
  {
   "metadata": {
    "ExecuteTime": {
     "end_time": "2025-02-02T23:54:25.144912Z",
     "start_time": "2025-02-02T23:54:25.141534Z"
    }
   },
   "cell_type": "code",
   "source": [
    "valores_normalizados = (porcentajes - valor_min) / (valor_max - valor_min)\n",
    "print(valores_normalizados)"
   ],
   "id": "eaa11125b6e5f97e",
   "outputs": [
    {
     "name": "stdout",
     "output_type": "stream",
     "text": [
      "Region\n",
      "EGIPTO              0.619048\n",
      "FUERTEVENTURA       0.742857\n",
      "FUERTEVETURA        0.000000\n",
      "GRANCANARIA         0.428571\n",
      "LANZAROTE           0.154762\n",
      "MALLORCA            1.000000\n",
      "OTROS               0.232143\n",
      "TENERIFE            0.168831\n",
      "TÜRKISCHERIVIERA    0.371429\n",
      "TÜRKISCHEÄGÄIS      0.000000\n",
      "WESTKÜSTE           0.000000\n",
      "dtype: float64\n"
     ]
    }
   ],
   "execution_count": 117
  },
  {
   "metadata": {},
   "cell_type": "markdown",
   "source": "### Intento de automatización del proceso",
   "id": "39add524bc40de8b"
  },
  {
   "metadata": {
    "ExecuteTime": {
     "end_time": "2025-02-02T23:54:25.163739Z",
     "start_time": "2025-02-02T23:54:25.160176Z"
    }
   },
   "cell_type": "code",
   "source": [
    "import pandas as pd\n",
    "\n",
    "#Creación de una opcion de automatizado por medio de indexión de tabla\n",
    "\n",
    "model_csv = 'C:/Users/usuario/Desktop/Photo_Categorization/photoCategorization/data/results3/blip2_t5_pretrain_flant5xl_3187.csv'\n",
    "df = pd.read_csv(model_csv)"
   ],
   "id": "68e8f29fcfeddf16",
   "outputs": [],
   "execution_count": 118
  },
  {
   "metadata": {
    "ExecuteTime": {
     "end_time": "2025-02-02T23:54:25.182034Z",
     "start_time": "2025-02-02T23:54:25.178218Z"
    }
   },
   "cell_type": "code",
   "source": [
    "#Falta termina la adición de las ultimas columnas \n",
    "\n",
    "condiciones = {\n",
    "    'People': ['yes'],  \n",
    "    'Role': ['primary', 'secondary'],          \n",
    "    'Gender': ['male', 'female', 'other'],\n",
    "    'Category': ['tourists', 'locals', 'workers'],\n",
    "    'Age_Categories': ['children', 'young adults', 'adults', 'elderly'],\n",
    "    'Travel_Group': ['family', 'couple'],\n",
    "    'Activity_Type': ['active', 'passive'],\n",
    "    'Context_Type': ['tourist attraction', 'leisure and recreation', 'lodging facility', 'natural resource', 'infrastructure'],\n",
    "    'Resource_Types': ['flora', 'fauna', 'landscapes'],    \n",
    "}\n",
    "\n",
    "# Crear un DataFrame de combinaciones columna-variable\n",
    "combinaciones = pd.DataFrame([\n",
    "    {'Columna': col, 'Variable': var}\n",
    "    for col, vars_ in condiciones.items()\n",
    "    for var in vars_\n",
    "])"
   ],
   "id": "9c66988a0eb2005f",
   "outputs": [],
   "execution_count": 119
  },
  {
   "metadata": {
    "ExecuteTime": {
     "end_time": "2025-02-02T23:54:25.199895Z",
     "start_time": "2025-02-02T23:54:25.196171Z"
    }
   },
   "cell_type": "code",
   "source": [
    "def calcular_normalizado(df, columna, variable):\n",
    "    # Filtrar filas que contienen la variable actual\n",
    "    df_filtrado = df[df[columna].str.contains(variable, case=False, na=False)]\n",
    "\n",
    "    # Calcular porcentajes por país\n",
    "    porcentajes = df_filtrado.groupby('Country').size() / df.groupby('Country').size() * 100\n",
    "    #porcentajes = df_filtrado.groupby('Region').size() / df.groupby('Region').size() * 100\n",
    "    porcentajes = porcentajes.fillna(0)\n",
    "\n",
    "    # Obtener los valores mínimo y máximo globales para normalizar\n",
    "    valor_min = porcentajes.min()\n",
    "    valor_max = porcentajes.max()\n",
    "\n",
    "    # Calcular valores normalizados\n",
    "    valores_normalizados = (porcentajes - valor_min) / (valor_max - valor_min)\n",
    "\n",
    "    return porcentajes, valores_normalizados"
   ],
   "id": "6dd24295767a6c3f",
   "outputs": [],
   "execution_count": 120
  },
  {
   "metadata": {
    "ExecuteTime": {
     "end_time": "2025-02-02T23:54:25.218355Z",
     "start_time": "2025-02-02T23:54:25.213309Z"
    }
   },
   "cell_type": "code",
   "source": [
    "def graficar_resultados_multiple(resultados_list):\n",
    "    sns.set(style=\"whitegrid\")\n",
    "    num_combinaciones = len(resultados_list)\n",
    "    num_paginas = (num_combinaciones // 3) + (num_combinaciones % 3 > 0)  # Calcular el número de páginas\n",
    "\n",
    "    for page in range(num_paginas):\n",
    "        fig, axes = plt.subplots(1, 3, figsize=(18, 6))\n",
    "        fig.suptitle(f\"Página {page + 1}\", fontsize=16)\n",
    "\n",
    "        for i in range(3):\n",
    "            idx = page * 3 + i\n",
    "            if idx >= num_combinaciones:\n",
    "                axes[i].axis('off')  # Apagar el subplot vacío\n",
    "                continue\n",
    "\n",
    "            # Datos para la combinación actual\n",
    "            columna, variable, porcentajes, valores_normalizados = resultados_list[idx]\n",
    "            df_grafico = pd.DataFrame({\n",
    "                'País': porcentajes.index,\n",
    "                'Porcentaje': porcentajes.values,\n",
    "                'Valor Normalizado': valores_normalizados.values\n",
    "            }).sort_values(by='Valor Normalizado', ascending=False)\n",
    "\n",
    "            # Crear gráfico\n",
    "            sns.barplot(data=df_grafico, x='País', y='Valor Normalizado', ax=axes[i], palette=\"coolwarm\", hue='País', dodge=False)\n",
    "            axes[i].set_title(f\"{variable} en {columna}\")\n",
    "            axes[i].set_xlabel(\"País\")\n",
    "            axes[i].set_ylabel(\"Valor Normalizado\")\n",
    "            axes[i].tick_params(axis='x', rotation=45)\n",
    "            axes[i].legend([], frameon=False)  # Ocultar leyenda automática\n",
    "\n",
    "        plt.tight_layout()\n",
    "        plt.subplots_adjust(top=0.85)  # Ajustar espacio para el título principal\n",
    "        plt.show()"
   ],
   "id": "e086edb3083d690",
   "outputs": [],
   "execution_count": 121
  },
  {
   "metadata": {
    "ExecuteTime": {
     "end_time": "2025-02-02T23:54:25.235809Z",
     "start_time": "2025-02-02T23:54:25.232146Z"
    }
   },
   "cell_type": "code",
   "source": [
    "def formatear_resultados(resultados_list):\n",
    "    df_formateado = pd.DataFrame()\n",
    "\n",
    "    # Crear un DataFrame para cada combinación\n",
    "    for columna, variable, porcentajes, valores_normalizados in resultados_list:\n",
    "        df_temp = pd.DataFrame({\n",
    "            'País': porcentajes.index,\n",
    "            'Valor Normalizado': valores_normalizados.values\n",
    "        })\n",
    "        df_temp['Índice'] = f\"{columna} - {variable}\"\n",
    "        df_temp = df_temp.pivot(index='Índice', columns='País', values='Valor Normalizado')\n",
    "        df_formateado = pd.concat([df_formateado, df_temp])\n",
    "\n",
    "    return df_formateado"
   ],
   "id": "87e03e1341e8d56c",
   "outputs": [],
   "execution_count": 122
  },
  {
   "metadata": {
    "ExecuteTime": {
     "end_time": "2025-02-02T23:54:25.308870Z",
     "start_time": "2025-02-02T23:54:25.251466Z"
    }
   },
   "cell_type": "code",
   "source": [
    "resultados_list = []\n",
    "for _, row in combinaciones.iterrows():\n",
    "    columna = row['Columna']\n",
    "    variable = row['Variable']\n",
    "\n",
    "    porcentajes, valores_normalizados = calcular_normalizado(df, columna, variable)\n",
    "\n",
    "    if porcentajes is None or valores_normalizados is None:\n",
    "        print(f\"No hay datos para la combinación: {columna} - {variable}\")\n",
    "        continue\n",
    "\n",
    "    resultados_list.append((columna, variable, porcentajes, valores_normalizados))\n",
    "\n",
    "#graficar_resultados_multiple(resultados_list)\n",
    "\n",
    "df_resultados_formateados = formatear_resultados(resultados_list)\n",
    "df_resultados_formateados.to_csv('resultados_formateados.csv', index=True)\n",
    "print(df_resultados_formateados)"
   ],
   "id": "d6ed5a38cd7398b7",
   "outputs": [
    {
     "name": "stdout",
     "output_type": "stream",
     "text": [
      "País                                     CHIPRE    EGIPTO    ESPAÑA     MALTA  \\\n",
      "Índice                                                                          \n",
      "People - yes                           0.428571  1.000000  0.786885  0.000000   \n",
      "Role - primary                         0.500000  0.777778  0.745902  0.000000   \n",
      "Role - secondary                       0.000000  0.000000  1.000000  0.000000   \n",
      "Gender - male                          0.000000  1.000000  0.368852  0.000000   \n",
      "Gender - female                        0.000000  0.000000  1.000000  0.000000   \n",
      "Gender - other                              NaN       NaN       NaN       NaN   \n",
      "Category - tourists                    0.500000  0.777778  0.918033  0.000000   \n",
      "Category - locals                      0.000000  1.000000  0.000000  0.000000   \n",
      "Category - workers                          NaN       NaN       NaN       NaN   \n",
      "Age_Categories - children              0.000000  0.000000  0.688525  0.000000   \n",
      "Age_Categories - young adults          0.000000  1.000000  0.688525  0.000000   \n",
      "Age_Categories - adults                0.000000  1.000000  0.688525  0.000000   \n",
      "Age_Categories - elderly               1.000000  0.000000  0.459016  0.000000   \n",
      "Travel_Group - family                  0.000000  0.777778  0.745902  0.000000   \n",
      "Travel_Group - couple                  1.000000  0.777778  0.344262  0.000000   \n",
      "Activity_Type - active                 0.000000  0.847222  1.000000  0.000000   \n",
      "Activity_Type - passive                0.500000  0.777778  0.459016  0.000000   \n",
      "Context_Type - tourist attraction      1.000000  0.000000  0.114754  0.134615   \n",
      "Context_Type - leisure and recreation  0.000000  0.533333  0.380328  1.000000   \n",
      "Context_Type - lodging facility        0.000000  0.000000  1.000000  0.000000   \n",
      "Context_Type - natural resource        0.000000  1.000000  0.737705  0.000000   \n",
      "Context_Type - infrastructure               NaN       NaN       NaN       NaN   \n",
      "Resource_Types - flora                 0.000000  0.000000  1.000000  0.000000   \n",
      "Resource_Types - fauna                 0.000000  1.000000  0.000000  0.000000   \n",
      "Resource_Types - landscapes            0.000000  0.847222  1.000000  0.000000   \n",
      "\n",
      "País                                    TURQUIA   TURQUÍA  \n",
      "Índice                                                     \n",
      "People - yes                           0.857143  0.300000  \n",
      "Role - primary                         1.000000  0.350000  \n",
      "Role - secondary                       0.000000  0.000000  \n",
      "Gender - male                          0.642857  0.450000  \n",
      "Gender - female                        0.000000  0.000000  \n",
      "Gender - other                              NaN       NaN  \n",
      "Category - tourists                    1.000000  0.350000  \n",
      "Category - locals                      0.000000  0.000000  \n",
      "Category - workers                          NaN       NaN  \n",
      "Age_Categories - children              1.000000  0.000000  \n",
      "Age_Categories - young adults          0.428571  0.300000  \n",
      "Age_Categories - adults                0.857143  0.300000  \n",
      "Age_Categories - elderly               1.000000  0.000000  \n",
      "Travel_Group - family                  1.000000  0.350000  \n",
      "Travel_Group - couple                  0.000000  0.000000  \n",
      "Activity_Type - active                 0.000000  0.762500  \n",
      "Activity_Type - passive                1.000000  0.000000  \n",
      "Context_Type - tourist attraction      0.307692  0.376923  \n",
      "Context_Type - leisure and recreation  0.800000  0.440000  \n",
      "Context_Type - lodging facility        0.000000  0.000000  \n",
      "Context_Type - natural resource        0.000000  0.450000  \n",
      "Context_Type - infrastructure               NaN       NaN  \n",
      "Resource_Types - flora                 0.000000  0.000000  \n",
      "Resource_Types - fauna                 0.000000  0.000000  \n",
      "Resource_Types - landscapes            0.000000  0.762500  \n"
     ]
    }
   ],
   "execution_count": 123
  },
  {
   "metadata": {
    "ExecuteTime": {
     "end_time": "2025-02-02T23:54:25.422444Z",
     "start_time": "2025-02-02T23:54:25.393781Z"
    }
   },
   "cell_type": "code",
   "source": [
    "resultados_totales = pd.concat(resultados_list, ignore_index=True)\n",
    "print(resultados_totales)"
   ],
   "id": "2ba5e7cab592e0ab",
   "outputs": [
    {
     "ename": "TypeError",
     "evalue": "cannot concatenate object of type '<class 'tuple'>'; only Series and DataFrame objs are valid",
     "output_type": "error",
     "traceback": [
      "\u001B[1;31m---------------------------------------------------------------------------\u001B[0m",
      "\u001B[1;31mTypeError\u001B[0m                                 Traceback (most recent call last)",
      "Cell \u001B[1;32mIn[124], line 1\u001B[0m\n\u001B[1;32m----> 1\u001B[0m resultados_totales \u001B[38;5;241m=\u001B[39m \u001B[43mpd\u001B[49m\u001B[38;5;241;43m.\u001B[39;49m\u001B[43mconcat\u001B[49m\u001B[43m(\u001B[49m\u001B[43mresultados_list\u001B[49m\u001B[43m,\u001B[49m\u001B[43m \u001B[49m\u001B[43mignore_index\u001B[49m\u001B[38;5;241;43m=\u001B[39;49m\u001B[38;5;28;43;01mTrue\u001B[39;49;00m\u001B[43m)\u001B[49m\n\u001B[0;32m      2\u001B[0m \u001B[38;5;28mprint\u001B[39m(resultados_totales)\n",
      "File \u001B[1;32m~\\Desktop\\Photo_Categorization\\photoCategorization\\venv\\Lib\\site-packages\\pandas\\core\\reshape\\concat.py:382\u001B[0m, in \u001B[0;36mconcat\u001B[1;34m(objs, axis, join, ignore_index, keys, levels, names, verify_integrity, sort, copy)\u001B[0m\n\u001B[0;32m    379\u001B[0m \u001B[38;5;28;01melif\u001B[39;00m copy \u001B[38;5;129;01mand\u001B[39;00m using_copy_on_write():\n\u001B[0;32m    380\u001B[0m     copy \u001B[38;5;241m=\u001B[39m \u001B[38;5;28;01mFalse\u001B[39;00m\n\u001B[1;32m--> 382\u001B[0m op \u001B[38;5;241m=\u001B[39m \u001B[43m_Concatenator\u001B[49m\u001B[43m(\u001B[49m\n\u001B[0;32m    383\u001B[0m \u001B[43m    \u001B[49m\u001B[43mobjs\u001B[49m\u001B[43m,\u001B[49m\n\u001B[0;32m    384\u001B[0m \u001B[43m    \u001B[49m\u001B[43maxis\u001B[49m\u001B[38;5;241;43m=\u001B[39;49m\u001B[43maxis\u001B[49m\u001B[43m,\u001B[49m\n\u001B[0;32m    385\u001B[0m \u001B[43m    \u001B[49m\u001B[43mignore_index\u001B[49m\u001B[38;5;241;43m=\u001B[39;49m\u001B[43mignore_index\u001B[49m\u001B[43m,\u001B[49m\n\u001B[0;32m    386\u001B[0m \u001B[43m    \u001B[49m\u001B[43mjoin\u001B[49m\u001B[38;5;241;43m=\u001B[39;49m\u001B[43mjoin\u001B[49m\u001B[43m,\u001B[49m\n\u001B[0;32m    387\u001B[0m \u001B[43m    \u001B[49m\u001B[43mkeys\u001B[49m\u001B[38;5;241;43m=\u001B[39;49m\u001B[43mkeys\u001B[49m\u001B[43m,\u001B[49m\n\u001B[0;32m    388\u001B[0m \u001B[43m    \u001B[49m\u001B[43mlevels\u001B[49m\u001B[38;5;241;43m=\u001B[39;49m\u001B[43mlevels\u001B[49m\u001B[43m,\u001B[49m\n\u001B[0;32m    389\u001B[0m \u001B[43m    \u001B[49m\u001B[43mnames\u001B[49m\u001B[38;5;241;43m=\u001B[39;49m\u001B[43mnames\u001B[49m\u001B[43m,\u001B[49m\n\u001B[0;32m    390\u001B[0m \u001B[43m    \u001B[49m\u001B[43mverify_integrity\u001B[49m\u001B[38;5;241;43m=\u001B[39;49m\u001B[43mverify_integrity\u001B[49m\u001B[43m,\u001B[49m\n\u001B[0;32m    391\u001B[0m \u001B[43m    \u001B[49m\u001B[43mcopy\u001B[49m\u001B[38;5;241;43m=\u001B[39;49m\u001B[43mcopy\u001B[49m\u001B[43m,\u001B[49m\n\u001B[0;32m    392\u001B[0m \u001B[43m    \u001B[49m\u001B[43msort\u001B[49m\u001B[38;5;241;43m=\u001B[39;49m\u001B[43msort\u001B[49m\u001B[43m,\u001B[49m\n\u001B[0;32m    393\u001B[0m \u001B[43m\u001B[49m\u001B[43m)\u001B[49m\n\u001B[0;32m    395\u001B[0m \u001B[38;5;28;01mreturn\u001B[39;00m op\u001B[38;5;241m.\u001B[39mget_result()\n",
      "File \u001B[1;32m~\\Desktop\\Photo_Categorization\\photoCategorization\\venv\\Lib\\site-packages\\pandas\\core\\reshape\\concat.py:448\u001B[0m, in \u001B[0;36m_Concatenator.__init__\u001B[1;34m(self, objs, axis, join, keys, levels, names, ignore_index, verify_integrity, copy, sort)\u001B[0m\n\u001B[0;32m    445\u001B[0m objs, keys \u001B[38;5;241m=\u001B[39m \u001B[38;5;28mself\u001B[39m\u001B[38;5;241m.\u001B[39m_clean_keys_and_objs(objs, keys)\n\u001B[0;32m    447\u001B[0m \u001B[38;5;66;03m# figure out what our result ndim is going to be\u001B[39;00m\n\u001B[1;32m--> 448\u001B[0m ndims \u001B[38;5;241m=\u001B[39m \u001B[38;5;28;43mself\u001B[39;49m\u001B[38;5;241;43m.\u001B[39;49m\u001B[43m_get_ndims\u001B[49m\u001B[43m(\u001B[49m\u001B[43mobjs\u001B[49m\u001B[43m)\u001B[49m\n\u001B[0;32m    449\u001B[0m sample, objs \u001B[38;5;241m=\u001B[39m \u001B[38;5;28mself\u001B[39m\u001B[38;5;241m.\u001B[39m_get_sample_object(objs, ndims, keys, names, levels)\n\u001B[0;32m    451\u001B[0m \u001B[38;5;66;03m# Standardize axis parameter to int\u001B[39;00m\n",
      "File \u001B[1;32m~\\Desktop\\Photo_Categorization\\photoCategorization\\venv\\Lib\\site-packages\\pandas\\core\\reshape\\concat.py:489\u001B[0m, in \u001B[0;36m_Concatenator._get_ndims\u001B[1;34m(self, objs)\u001B[0m\n\u001B[0;32m    484\u001B[0m     \u001B[38;5;28;01mif\u001B[39;00m \u001B[38;5;129;01mnot\u001B[39;00m \u001B[38;5;28misinstance\u001B[39m(obj, (ABCSeries, ABCDataFrame)):\n\u001B[0;32m    485\u001B[0m         msg \u001B[38;5;241m=\u001B[39m (\n\u001B[0;32m    486\u001B[0m             \u001B[38;5;124mf\u001B[39m\u001B[38;5;124m\"\u001B[39m\u001B[38;5;124mcannot concatenate object of type \u001B[39m\u001B[38;5;124m'\u001B[39m\u001B[38;5;132;01m{\u001B[39;00m\u001B[38;5;28mtype\u001B[39m(obj)\u001B[38;5;132;01m}\u001B[39;00m\u001B[38;5;124m'\u001B[39m\u001B[38;5;124m; \u001B[39m\u001B[38;5;124m\"\u001B[39m\n\u001B[0;32m    487\u001B[0m             \u001B[38;5;124m\"\u001B[39m\u001B[38;5;124monly Series and DataFrame objs are valid\u001B[39m\u001B[38;5;124m\"\u001B[39m\n\u001B[0;32m    488\u001B[0m         )\n\u001B[1;32m--> 489\u001B[0m         \u001B[38;5;28;01mraise\u001B[39;00m \u001B[38;5;167;01mTypeError\u001B[39;00m(msg)\n\u001B[0;32m    491\u001B[0m     ndims\u001B[38;5;241m.\u001B[39madd(obj\u001B[38;5;241m.\u001B[39mndim)\n\u001B[0;32m    492\u001B[0m \u001B[38;5;28;01mreturn\u001B[39;00m ndims\n",
      "\u001B[1;31mTypeError\u001B[0m: cannot concatenate object of type '<class 'tuple'>'; only Series and DataFrame objs are valid"
     ]
    }
   ],
   "execution_count": 124
  },
  {
   "metadata": {
    "ExecuteTime": {
     "end_time": "2025-02-02T23:54:25.424438800Z",
     "start_time": "2025-02-02T23:24:06.826028Z"
    }
   },
   "cell_type": "code",
   "source": [
    "resultados_totales.to_csv('resultados_normalizados_totales.csv', index=False)\n",
    "print(resultados_totales.head())"
   ],
   "id": "e2a95b76173879b3",
   "outputs": [
    {
     "name": "stdout",
     "output_type": "stream",
     "text": [
      "  Columna Variable     País  Porcentaje  Valor Normalizado\n",
      "0  People      yes   CHIPRE   14.285714           0.428571\n",
      "1  People      yes   EGIPTO   33.333333           1.000000\n",
      "2  People      yes   ESPAÑA   26.229508           0.786885\n",
      "3  People      yes    MALTA    0.000000           0.000000\n",
      "4  People      yes  TURQUIA   28.571429           0.857143\n"
     ]
    }
   ],
   "execution_count": 73
  }
 ],
 "metadata": {
  "kernelspec": {
   "display_name": "Python 3",
   "language": "python",
   "name": "python3"
  },
  "language_info": {
   "codemirror_mode": {
    "name": "ipython",
    "version": 2
   },
   "file_extension": ".py",
   "mimetype": "text/x-python",
   "name": "python",
   "nbconvert_exporter": "python",
   "pygments_lexer": "ipython2",
   "version": "2.7.6"
  }
 },
 "nbformat": 4,
 "nbformat_minor": 5
}
