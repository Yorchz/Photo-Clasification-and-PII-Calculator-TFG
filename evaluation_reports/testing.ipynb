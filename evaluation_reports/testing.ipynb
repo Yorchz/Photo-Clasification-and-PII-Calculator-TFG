{
 "cells": [
  {
   "cell_type": "code",
   "id": "initial_id",
   "metadata": {
    "collapsed": true,
    "ExecuteTime": {
     "end_time": "2025-02-01T00:24:01.249804Z",
     "start_time": "2025-02-01T00:24:01.227855Z"
    }
   },
   "source": [
    "import pandas as pd\n",
    "\n",
    "model_csv = 'C:/Users/usuario/Desktop/Photo_Categorization/photoCategorization/data/results3/blip2_t5_pretrain_flant5xl_9322.csv'\n",
    "df = pd.read_csv(model_csv)"
   ],
   "outputs": [
    {
     "name": "stdout",
     "output_type": "stream",
     "text": [
      "Index(['Image_Id', 'Country', 'Region', 'People', 'Num_People', 'Role',\n",
      "       'Gender', 'Category', 'Age_Categories', 'Travel_Group', 'Activity_Type',\n",
      "       'Activity_Done', 'Context_Type', 'Resource_Types', 'Flora_Types',\n",
      "       'Fauna_Types', 'Landscape_Types', 'Tourist_Resource_Types',\n",
      "       'Heritage_Types', 'Cultural_Elements', 'Gastronomy_Types',\n",
      "       'Leisure_Activities', 'Leisure_Types', 'Sports_Types',\n",
      "       'Shopping_Facilities', 'Accommodation_Types', 'Infrastructure_Types'],\n",
      "      dtype='object')\n"
     ]
    }
   ],
   "execution_count": 6
  },
  {
   "metadata": {
    "ExecuteTime": {
     "end_time": "2025-02-01T00:24:21.078096Z",
     "start_time": "2025-02-01T00:24:21.068598Z"
    }
   },
   "cell_type": "code",
   "source": [
    "conteo_paises = df['Country'].value_counts()\n",
    "num_paises_unicos = conteo_paises.nunique()"
   ],
   "id": "adc5b16fee7e6955",
   "outputs": [],
   "execution_count": 7
  },
  {
   "metadata": {
    "ExecuteTime": {
     "end_time": "2025-02-01T00:24:43.991323Z",
     "start_time": "2025-02-01T00:24:43.988376Z"
    }
   },
   "cell_type": "code",
   "source": [
    "print(f\"Total de países distintos: {num_paises_unicos}\")\n",
    "print(conteo_paises)"
   ],
   "id": "f4bba22dc3c0c82",
   "outputs": [
    {
     "name": "stdout",
     "output_type": "stream",
     "text": [
      "Total de países distintos: 5\n",
      "Country\n",
      "ESPAÑA     61\n",
      "TURQUÍA    10\n",
      "EGIPTO      9\n",
      "CHIPRE      7\n",
      "TURQUIA     7\n",
      "MALTA       2\n",
      "Name: count, dtype: int64\n"
     ]
    }
   ],
   "execution_count": 8
  },
  {
   "metadata": {
    "ExecuteTime": {
     "end_time": "2025-02-01T00:25:23.318582Z",
     "start_time": "2025-02-01T00:25:23.315185Z"
    }
   },
   "cell_type": "code",
   "source": [
    "conteo_paises = df['Region'].value_counts()\n",
    "num_paises_unicos = conteo_paises.nunique()"
   ],
   "id": "2e594ee73ce86ce8",
   "outputs": [],
   "execution_count": 9
  },
  {
   "metadata": {
    "ExecuteTime": {
     "end_time": "2025-02-01T00:25:26.894875Z",
     "start_time": "2025-02-01T00:25:26.891533Z"
    }
   },
   "cell_type": "code",
   "source": [
    "print(f\"Total de países distintos: {num_paises_unicos}\")\n",
    "print(conteo_paises)"
   ],
   "id": "4053adbad3d1e77d",
   "outputs": [
    {
     "name": "stdout",
     "output_type": "stream",
     "text": [
      "Total de países distintos: 9\n",
      "Region\n",
      "TÜRKISCHERIVIERA    15\n",
      "GRANCANARIA         13\n",
      "MALLORCA            13\n",
      "LANZAROTE           12\n",
      "TENERIFE            11\n",
      "FUERTEVENTURA       10\n",
      "EGIPTO               9\n",
      "OTROS                8\n",
      "TÜRKISCHEÄGÄIS       2\n",
      "FUERTEVETURA         2\n",
      "WESTKÜSTE            1\n",
      "Name: count, dtype: int64\n"
     ]
    }
   ],
   "execution_count": 10
  },
  {
   "metadata": {},
   "cell_type": "markdown",
   "source": "### Prueba de clasificación de eventuales",
   "id": "4056959542b4646c"
  },
  {
   "metadata": {
    "ExecuteTime": {
     "end_time": "2025-02-01T01:01:12.608920Z",
     "start_time": "2025-02-01T01:01:12.605451Z"
    }
   },
   "cell_type": "code",
   "source": "df_yes = df[df['People'].str.contains('yes', case=False, na=False)]",
   "id": "dd4cc108ece28b68",
   "outputs": [],
   "execution_count": 24
  },
  {
   "metadata": {
    "ExecuteTime": {
     "end_time": "2025-02-01T01:01:13.203117Z",
     "start_time": "2025-02-01T01:01:13.198307Z"
    }
   },
   "cell_type": "code",
   "source": [
    "porcentajes = df_yes.groupby('Country').size() / df.groupby('Country').size() * 100\n",
    "porcentajes = porcentajes.fillna(0)\n",
    "print(porcentajes)\n",
    "valor_min = porcentajes.min()\n",
    "valor_max = porcentajes.max()"
   ],
   "id": "bf4930b882a3d86d",
   "outputs": [
    {
     "name": "stdout",
     "output_type": "stream",
     "text": [
      "Country\n",
      "CHIPRE     14.285714\n",
      "EGIPTO     33.333333\n",
      "ESPAÑA     26.229508\n",
      "MALTA       0.000000\n",
      "TURQUIA    28.571429\n",
      "TURQUÍA    10.000000\n",
      "dtype: float64\n"
     ]
    }
   ],
   "execution_count": 25
  },
  {
   "metadata": {
    "ExecuteTime": {
     "end_time": "2025-02-01T01:01:16.108352Z",
     "start_time": "2025-02-01T01:01:16.104464Z"
    }
   },
   "cell_type": "code",
   "source": [
    "valores_normalizados = (porcentajes - valor_min) / (valor_max - valor_min)\n",
    "print(valores_normalizados)"
   ],
   "id": "fbfd6bda5ddffa15",
   "outputs": [
    {
     "name": "stdout",
     "output_type": "stream",
     "text": [
      "Country\n",
      "CHIPRE     0.428571\n",
      "EGIPTO     1.000000\n",
      "ESPAÑA     0.786885\n",
      "MALTA      0.000000\n",
      "TURQUIA    0.857143\n",
      "TURQUÍA    0.300000\n",
      "dtype: float64\n"
     ]
    }
   ],
   "execution_count": 26
  },
  {
   "metadata": {
    "ExecuteTime": {
     "end_time": "2025-02-01T01:01:20.003510Z",
     "start_time": "2025-02-01T01:01:19.998288Z"
    }
   },
   "cell_type": "code",
   "source": [
    "porcentajes = df_yes.groupby('Region').size() / df.groupby('Region').size() * 100\n",
    "porcentajes = porcentajes.fillna(0)\n",
    "print(porcentajes)\n",
    "valor_min = porcentajes.min()\n",
    "valor_max = porcentajes.max()"
   ],
   "id": "f41b76063b9a3cc1",
   "outputs": [
    {
     "name": "stdout",
     "output_type": "stream",
     "text": [
      "Region\n",
      "EGIPTO              33.333333\n",
      "FUERTEVENTURA       40.000000\n",
      "FUERTEVETURA         0.000000\n",
      "GRANCANARIA         23.076923\n",
      "LANZAROTE            8.333333\n",
      "MALLORCA            53.846154\n",
      "OTROS               12.500000\n",
      "TENERIFE             9.090909\n",
      "TÜRKISCHERIVIERA    20.000000\n",
      "TÜRKISCHEÄGÄIS       0.000000\n",
      "WESTKÜSTE            0.000000\n",
      "dtype: float64\n"
     ]
    }
   ],
   "execution_count": 27
  },
  {
   "metadata": {
    "ExecuteTime": {
     "end_time": "2025-02-01T01:01:22.024944Z",
     "start_time": "2025-02-01T01:01:22.021633Z"
    }
   },
   "cell_type": "code",
   "source": [
    "valores_normalizados = (porcentajes - valor_min) / (valor_max - valor_min)\n",
    "print(valores_normalizados)"
   ],
   "id": "eaa11125b6e5f97e",
   "outputs": [
    {
     "name": "stdout",
     "output_type": "stream",
     "text": [
      "Region\n",
      "EGIPTO              0.619048\n",
      "FUERTEVENTURA       0.742857\n",
      "FUERTEVETURA        0.000000\n",
      "GRANCANARIA         0.428571\n",
      "LANZAROTE           0.154762\n",
      "MALLORCA            1.000000\n",
      "OTROS               0.232143\n",
      "TENERIFE            0.168831\n",
      "TÜRKISCHERIVIERA    0.371429\n",
      "TÜRKISCHEÄGÄIS      0.000000\n",
      "WESTKÜSTE           0.000000\n",
      "dtype: float64\n"
     ]
    }
   ],
   "execution_count": 28
  },
  {
   "metadata": {},
   "cell_type": "markdown",
   "source": "### Intento de automatización del proceso",
   "id": "39add524bc40de8b"
  },
  {
   "metadata": {
    "ExecuteTime": {
     "end_time": "2025-02-01T02:00:10.408549Z",
     "start_time": "2025-02-01T02:00:10.403213Z"
    }
   },
   "cell_type": "code",
   "source": [
    "import pandas as pd\n",
    "\n",
    "#Creación de una opcion de automatizado por medio de indexión de tabla\n",
    "\n",
    "model_csv = 'C:/Users/usuario/Desktop/Photo_Categorization/photoCategorization/data/results3/blip2_t5_pretrain_flant5xl_9322.csv'\n",
    "df = pd.read_csv(model_csv)"
   ],
   "id": "68e8f29fcfeddf16",
   "outputs": [],
   "execution_count": 29
  },
  {
   "metadata": {
    "ExecuteTime": {
     "end_time": "2025-02-01T02:00:11.551792Z",
     "start_time": "2025-02-01T02:00:11.548035Z"
    }
   },
   "cell_type": "code",
   "source": [
    "#Falta termina la adición de las ultimas columnas \n",
    "\n",
    "condiciones = {\n",
    "    'People': ['yes'],  \n",
    "    'Role': ['primary', 'secondary'],          \n",
    "    'Gender': ['male', 'female', 'other'],\n",
    "    'Category': ['tourists', 'locals', 'workers'],\n",
    "    'Age_Categories': ['children', 'young adults', 'adults', 'elderly'],\n",
    "    'Travel_Group': ['family', 'couple'],\n",
    "    'Activity_Type': ['active', 'passive'],\n",
    "    'Context_Type': ['tourist attraction', 'leisure and recreation', 'lodging facility', 'natural resource', 'infrastructure'],\n",
    "    'Resource_Types': ['flora', 'fauna', 'landscapes'],    \n",
    "}\n",
    "\n",
    "# Crear un DataFrame de combinaciones columna-variable\n",
    "combinaciones = pd.DataFrame([\n",
    "    {'Columna': col, 'Variable': var}\n",
    "    for col, vars_ in condiciones.items()\n",
    "    for var in vars_\n",
    "])"
   ],
   "id": "9c66988a0eb2005f",
   "outputs": [],
   "execution_count": 30
  },
  {
   "metadata": {
    "ExecuteTime": {
     "end_time": "2025-02-01T02:00:13.064267Z",
     "start_time": "2025-02-01T02:00:13.061050Z"
    }
   },
   "cell_type": "code",
   "source": [
    "def calcular_normalizado(df, columna, variable):\n",
    "    # Filtrar filas que contienen la variable actual\n",
    "    df_filtrado = df[df[columna].str.contains(variable, case=False, na=False)]\n",
    "\n",
    "    # Calcular porcentajes por país\n",
    "    porcentajes = df_filtrado.groupby('Country').size() / df.groupby('Country').size() * 100\n",
    "    #porcentajes = df_filtrado.groupby('Region').size() / df.groupby('Region').size() * 100\n",
    "    porcentajes = porcentajes.fillna(0)\n",
    "\n",
    "    # Obtener los valores mínimo y máximo globales para normalizar\n",
    "    valor_min = porcentajes.min()\n",
    "    valor_max = porcentajes.max()\n",
    "\n",
    "    # Calcular valores normalizados\n",
    "    valores_normalizados = (porcentajes - valor_min) / (valor_max - valor_min)\n",
    "\n",
    "    return porcentajes, valores_normalizados"
   ],
   "id": "6dd24295767a6c3f",
   "outputs": [],
   "execution_count": 31
  },
  {
   "metadata": {
    "ExecuteTime": {
     "end_time": "2025-02-01T02:00:14.349782Z",
     "start_time": "2025-02-01T02:00:14.317816Z"
    }
   },
   "cell_type": "code",
   "source": [
    "resultados_list = []\n",
    "for _, row in combinaciones.iterrows():\n",
    "    columna = row['Columna']\n",
    "    variable = row['Variable']\n",
    "    \n",
    "    porcentajes, valores_normalizados = calcular_normalizado(df, columna, variable)\n",
    "    resultados = pd.DataFrame({\n",
    "        'Columna': columna,\n",
    "        'Variable': variable,\n",
    "        'País': porcentajes.index,\n",
    "        'Porcentaje': porcentajes.values,\n",
    "        'Valor Normalizado': valores_normalizados.values\n",
    "    })\n",
    "    resultados_list.append(resultados)"
   ],
   "id": "d6ed5a38cd7398b7",
   "outputs": [],
   "execution_count": 32
  },
  {
   "metadata": {
    "ExecuteTime": {
     "end_time": "2025-02-01T02:00:15.882064Z",
     "start_time": "2025-02-01T02:00:15.876534Z"
    }
   },
   "cell_type": "code",
   "source": [
    "resultados_totales = pd.concat(resultados_list, ignore_index=True)\n",
    "print(resultados_totales)"
   ],
   "id": "2ba5e7cab592e0ab",
   "outputs": [
    {
     "name": "stdout",
     "output_type": "stream",
     "text": [
      "            Columna    Variable     País  Porcentaje  Valor Normalizado\n",
      "0            People         yes   CHIPRE   14.285714           0.428571\n",
      "1            People         yes   EGIPTO   33.333333           1.000000\n",
      "2            People         yes   ESPAÑA   26.229508           0.786885\n",
      "3            People         yes    MALTA    0.000000           0.000000\n",
      "4            People         yes  TURQUIA   28.571429           0.857143\n",
      "..              ...         ...      ...         ...                ...\n",
      "145  Resource_Types  landscapes   EGIPTO   11.111111           0.847222\n",
      "146  Resource_Types  landscapes   ESPAÑA   13.114754           1.000000\n",
      "147  Resource_Types  landscapes    MALTA    0.000000           0.000000\n",
      "148  Resource_Types  landscapes  TURQUIA    0.000000           0.000000\n",
      "149  Resource_Types  landscapes  TURQUÍA   10.000000           0.762500\n",
      "\n",
      "[150 rows x 5 columns]\n"
     ]
    }
   ],
   "execution_count": 33
  },
  {
   "metadata": {
    "ExecuteTime": {
     "end_time": "2025-02-01T02:02:39.410938Z",
     "start_time": "2025-02-01T02:02:39.380184Z"
    }
   },
   "cell_type": "code",
   "source": [
    "resultados_totales.to_csv('resultados_normalizados_totales.csv', index=False)\n",
    "print(resultados_totales.head())"
   ],
   "id": "e2a95b76173879b3",
   "outputs": [
    {
     "name": "stdout",
     "output_type": "stream",
     "text": [
      "  Columna Variable     País  Porcentaje  Valor Normalizado\n",
      "0  People      yes   CHIPRE   14.285714           0.428571\n",
      "1  People      yes   EGIPTO   33.333333           1.000000\n",
      "2  People      yes   ESPAÑA   26.229508           0.786885\n",
      "3  People      yes    MALTA    0.000000           0.000000\n",
      "4  People      yes  TURQUIA   28.571429           0.857143\n"
     ]
    }
   ],
   "execution_count": 34
  }
 ],
 "metadata": {
  "kernelspec": {
   "display_name": "Python 3",
   "language": "python",
   "name": "python3"
  },
  "language_info": {
   "codemirror_mode": {
    "name": "ipython",
    "version": 2
   },
   "file_extension": ".py",
   "mimetype": "text/x-python",
   "name": "python",
   "nbconvert_exporter": "python",
   "pygments_lexer": "ipython2",
   "version": "2.7.6"
  }
 },
 "nbformat": 4,
 "nbformat_minor": 5
}
